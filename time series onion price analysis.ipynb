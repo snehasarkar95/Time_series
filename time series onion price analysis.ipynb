{
 "cells": [
  {
   "cell_type": "code",
   "execution_count": 1,
   "id": "0e996960",
   "metadata": {},
   "outputs": [],
   "source": [
    "import pandas as pd\n",
    "import numpy as np\n",
    "import seaborn as sns\n",
    "import matplotlib.pyplot as plt\n",
    "import os\n",
    "import statsmodels.api as sm\n",
    "import statsmodels.formula.api as smf"
   ]
  },
  {
   "cell_type": "code",
   "execution_count": 3,
   "id": "7c8733df",
   "metadata": {},
   "outputs": [],
   "source": [
    "os.chdir(r\"C:\\Users\\Sarkar\\Documents\\GitHub\\Time_series\")"
   ]
  },
  {
   "cell_type": "code",
   "execution_count": 4,
   "id": "6b910f37",
   "metadata": {},
   "outputs": [
    {
     "data": {
      "text/plain": [
       "['.git', '.gitattributes', 'MonthWiseMarketArrivals_Clean.csv']"
      ]
     },
     "execution_count": 4,
     "metadata": {},
     "output_type": "execute_result"
    }
   ],
   "source": [
    "os.listdir()"
   ]
  },
  {
   "cell_type": "code",
   "execution_count": 5,
   "id": "095c1bae",
   "metadata": {},
   "outputs": [],
   "source": [
    "df=pd.read_csv(\"MonthWiseMarketArrivals_Clean.csv\")"
   ]
  },
  {
   "cell_type": "code",
   "execution_count": 6,
   "id": "6df28759",
   "metadata": {},
   "outputs": [],
   "source": [
    "pd.set_option('display.max_columns',500)"
   ]
  },
  {
   "cell_type": "code",
   "execution_count": 7,
   "id": "2a8dac10",
   "metadata": {},
   "outputs": [
    {
     "data": {
      "text/plain": [
       "(10227, 10)"
      ]
     },
     "execution_count": 7,
     "metadata": {},
     "output_type": "execute_result"
    }
   ],
   "source": [
    "df.shape"
   ]
  },
  {
   "cell_type": "code",
   "execution_count": 8,
   "id": "aa616d8e",
   "metadata": {},
   "outputs": [
    {
     "name": "stdout",
     "output_type": "stream",
     "text": [
      "<class 'pandas.core.frame.DataFrame'>\n",
      "RangeIndex: 10227 entries, 0 to 10226\n",
      "Data columns (total 10 columns):\n",
      " #   Column    Non-Null Count  Dtype \n",
      "---  ------    --------------  ----- \n",
      " 0   market    10227 non-null  object\n",
      " 1   month     10227 non-null  object\n",
      " 2   year      10227 non-null  int64 \n",
      " 3   quantity  10227 non-null  int64 \n",
      " 4   priceMin  10227 non-null  int64 \n",
      " 5   priceMax  10227 non-null  int64 \n",
      " 6   priceMod  10227 non-null  int64 \n",
      " 7   state     10227 non-null  object\n",
      " 8   city      10227 non-null  object\n",
      " 9   date      10227 non-null  object\n",
      "dtypes: int64(5), object(5)\n",
      "memory usage: 799.1+ KB\n"
     ]
    }
   ],
   "source": [
    "df.info()"
   ]
  },
  {
   "cell_type": "code",
   "execution_count": 9,
   "id": "8caf99a0",
   "metadata": {},
   "outputs": [
    {
     "data": {
      "text/html": [
       "<div>\n",
       "<style scoped>\n",
       "    .dataframe tbody tr th:only-of-type {\n",
       "        vertical-align: middle;\n",
       "    }\n",
       "\n",
       "    .dataframe tbody tr th {\n",
       "        vertical-align: top;\n",
       "    }\n",
       "\n",
       "    .dataframe thead th {\n",
       "        text-align: right;\n",
       "    }\n",
       "</style>\n",
       "<table border=\"1\" class=\"dataframe\">\n",
       "  <thead>\n",
       "    <tr style=\"text-align: right;\">\n",
       "      <th></th>\n",
       "      <th>market</th>\n",
       "      <th>month</th>\n",
       "      <th>year</th>\n",
       "      <th>quantity</th>\n",
       "      <th>priceMin</th>\n",
       "      <th>priceMax</th>\n",
       "      <th>priceMod</th>\n",
       "      <th>state</th>\n",
       "      <th>city</th>\n",
       "      <th>date</th>\n",
       "    </tr>\n",
       "  </thead>\n",
       "  <tbody>\n",
       "    <tr>\n",
       "      <th>0</th>\n",
       "      <td>ABOHAR(PB)</td>\n",
       "      <td>January</td>\n",
       "      <td>2005</td>\n",
       "      <td>2350</td>\n",
       "      <td>404</td>\n",
       "      <td>493</td>\n",
       "      <td>446</td>\n",
       "      <td>PB</td>\n",
       "      <td>ABOHAR</td>\n",
       "      <td>January-2005</td>\n",
       "    </tr>\n",
       "    <tr>\n",
       "      <th>1</th>\n",
       "      <td>ABOHAR(PB)</td>\n",
       "      <td>January</td>\n",
       "      <td>2006</td>\n",
       "      <td>900</td>\n",
       "      <td>487</td>\n",
       "      <td>638</td>\n",
       "      <td>563</td>\n",
       "      <td>PB</td>\n",
       "      <td>ABOHAR</td>\n",
       "      <td>January-2006</td>\n",
       "    </tr>\n",
       "    <tr>\n",
       "      <th>2</th>\n",
       "      <td>ABOHAR(PB)</td>\n",
       "      <td>January</td>\n",
       "      <td>2010</td>\n",
       "      <td>790</td>\n",
       "      <td>1283</td>\n",
       "      <td>1592</td>\n",
       "      <td>1460</td>\n",
       "      <td>PB</td>\n",
       "      <td>ABOHAR</td>\n",
       "      <td>January-2010</td>\n",
       "    </tr>\n",
       "    <tr>\n",
       "      <th>3</th>\n",
       "      <td>ABOHAR(PB)</td>\n",
       "      <td>January</td>\n",
       "      <td>2011</td>\n",
       "      <td>245</td>\n",
       "      <td>3067</td>\n",
       "      <td>3750</td>\n",
       "      <td>3433</td>\n",
       "      <td>PB</td>\n",
       "      <td>ABOHAR</td>\n",
       "      <td>January-2011</td>\n",
       "    </tr>\n",
       "    <tr>\n",
       "      <th>4</th>\n",
       "      <td>ABOHAR(PB)</td>\n",
       "      <td>January</td>\n",
       "      <td>2012</td>\n",
       "      <td>1035</td>\n",
       "      <td>523</td>\n",
       "      <td>686</td>\n",
       "      <td>605</td>\n",
       "      <td>PB</td>\n",
       "      <td>ABOHAR</td>\n",
       "      <td>January-2012</td>\n",
       "    </tr>\n",
       "  </tbody>\n",
       "</table>\n",
       "</div>"
      ],
      "text/plain": [
       "       market    month  year  quantity  priceMin  priceMax  priceMod state  \\\n",
       "0  ABOHAR(PB)  January  2005      2350       404       493       446    PB   \n",
       "1  ABOHAR(PB)  January  2006       900       487       638       563    PB   \n",
       "2  ABOHAR(PB)  January  2010       790      1283      1592      1460    PB   \n",
       "3  ABOHAR(PB)  January  2011       245      3067      3750      3433    PB   \n",
       "4  ABOHAR(PB)  January  2012      1035       523       686       605    PB   \n",
       "\n",
       "     city          date  \n",
       "0  ABOHAR  January-2005  \n",
       "1  ABOHAR  January-2006  \n",
       "2  ABOHAR  January-2010  \n",
       "3  ABOHAR  January-2011  \n",
       "4  ABOHAR  January-2012  "
      ]
     },
     "execution_count": 9,
     "metadata": {},
     "output_type": "execute_result"
    }
   ],
   "source": [
    "df.head()"
   ]
  },
  {
   "cell_type": "markdown",
   "id": "b963687d",
   "metadata": {},
   "source": [
    "***\n",
    "# Observations\n",
    "* The data constitutes granularity of 10 and cardinality of 10227\n",
    "* There are 5 object type variables and 5 int64 type variables \n",
    "* data contains no null values\n",
    "***"
   ]
  },
  {
   "cell_type": "code",
   "execution_count": 10,
   "id": "b62070b6",
   "metadata": {},
   "outputs": [
    {
     "data": {
      "text/plain": [
       "MS     4354\n",
       "KNT     958\n",
       "GUJ     929\n",
       "UP      617\n",
       "PB      593\n",
       "RAJ     462\n",
       "TN      350\n",
       "MP      309\n",
       "AP      278\n",
       "HR      233\n",
       "WB      187\n",
       "JK      163\n",
       "DEL     158\n",
       "BHR     140\n",
       "ASM     134\n",
       "OR      129\n",
       "JH      123\n",
       "KEL      55\n",
       "HP       40\n",
       "KER      13\n",
       "CH        2\n",
       "Name: state, dtype: int64"
      ]
     },
     "execution_count": 10,
     "metadata": {},
     "output_type": "execute_result"
    }
   ],
   "source": [
    "df[\"state\"].value_counts()"
   ]
  },
  {
   "cell_type": "code",
   "execution_count": 11,
   "id": "9f16a997",
   "metadata": {},
   "outputs": [
    {
     "data": {
      "text/plain": [
       "LASALGAON        242\n",
       "PIMPALGAON       224\n",
       "MANMAD           218\n",
       "LONAND           211\n",
       "MAHUVA           210\n",
       "                ... \n",
       "SRIGANGANAGAR      1\n",
       "MEERUT             1\n",
       "RAJAHMUNDRY        1\n",
       "NEEMUCH            1\n",
       "CHALLAKERE         1\n",
       "Name: city, Length: 117, dtype: int64"
      ]
     },
     "execution_count": 11,
     "metadata": {},
     "output_type": "execute_result"
    }
   ],
   "source": [
    "df[\"city\"].value_counts()"
   ]
  },
  {
   "cell_type": "code",
   "execution_count": 13,
   "id": "a3e23f06",
   "metadata": {},
   "outputs": [
    {
     "data": {
      "text/html": [
       "<div>\n",
       "<style scoped>\n",
       "    .dataframe tbody tr th:only-of-type {\n",
       "        vertical-align: middle;\n",
       "    }\n",
       "\n",
       "    .dataframe tbody tr th {\n",
       "        vertical-align: top;\n",
       "    }\n",
       "\n",
       "    .dataframe thead th {\n",
       "        text-align: right;\n",
       "    }\n",
       "</style>\n",
       "<table border=\"1\" class=\"dataframe\">\n",
       "  <thead>\n",
       "    <tr style=\"text-align: right;\">\n",
       "      <th></th>\n",
       "      <th>market</th>\n",
       "      <th>month</th>\n",
       "      <th>year</th>\n",
       "      <th>quantity</th>\n",
       "      <th>priceMin</th>\n",
       "      <th>priceMax</th>\n",
       "      <th>priceMod</th>\n",
       "      <th>state</th>\n",
       "      <th>city</th>\n",
       "      <th>date</th>\n",
       "    </tr>\n",
       "  </thead>\n",
       "  <tbody>\n",
       "    <tr>\n",
       "      <th>5399</th>\n",
       "      <td>LASALGAON(MS)</td>\n",
       "      <td>January</td>\n",
       "      <td>1996</td>\n",
       "      <td>225063</td>\n",
       "      <td>160</td>\n",
       "      <td>257</td>\n",
       "      <td>226</td>\n",
       "      <td>MS</td>\n",
       "      <td>LASALGAON</td>\n",
       "      <td>January-1996</td>\n",
       "    </tr>\n",
       "    <tr>\n",
       "      <th>5400</th>\n",
       "      <td>LASALGAON(MS)</td>\n",
       "      <td>January</td>\n",
       "      <td>1997</td>\n",
       "      <td>241225</td>\n",
       "      <td>126</td>\n",
       "      <td>323</td>\n",
       "      <td>290</td>\n",
       "      <td>MS</td>\n",
       "      <td>LASALGAON</td>\n",
       "      <td>January-1997</td>\n",
       "    </tr>\n",
       "    <tr>\n",
       "      <th>5401</th>\n",
       "      <td>LASALGAON(MS)</td>\n",
       "      <td>January</td>\n",
       "      <td>1998</td>\n",
       "      <td>125731</td>\n",
       "      <td>225</td>\n",
       "      <td>1447</td>\n",
       "      <td>1037</td>\n",
       "      <td>MS</td>\n",
       "      <td>LASALGAON</td>\n",
       "      <td>January-1998</td>\n",
       "    </tr>\n",
       "    <tr>\n",
       "      <th>5402</th>\n",
       "      <td>LASALGAON(MS)</td>\n",
       "      <td>January</td>\n",
       "      <td>1999</td>\n",
       "      <td>236001</td>\n",
       "      <td>310</td>\n",
       "      <td>545</td>\n",
       "      <td>498</td>\n",
       "      <td>MS</td>\n",
       "      <td>LASALGAON</td>\n",
       "      <td>January-1999</td>\n",
       "    </tr>\n",
       "    <tr>\n",
       "      <th>5403</th>\n",
       "      <td>LASALGAON(MS)</td>\n",
       "      <td>January</td>\n",
       "      <td>2000</td>\n",
       "      <td>390783</td>\n",
       "      <td>145</td>\n",
       "      <td>341</td>\n",
       "      <td>225</td>\n",
       "      <td>MS</td>\n",
       "      <td>LASALGAON</td>\n",
       "      <td>January-2000</td>\n",
       "    </tr>\n",
       "    <tr>\n",
       "      <th>...</th>\n",
       "      <td>...</td>\n",
       "      <td>...</td>\n",
       "      <td>...</td>\n",
       "      <td>...</td>\n",
       "      <td>...</td>\n",
       "      <td>...</td>\n",
       "      <td>...</td>\n",
       "      <td>...</td>\n",
       "      <td>...</td>\n",
       "      <td>...</td>\n",
       "    </tr>\n",
       "    <tr>\n",
       "      <th>5636</th>\n",
       "      <td>LASALGAON(MS)</td>\n",
       "      <td>December</td>\n",
       "      <td>2011</td>\n",
       "      <td>213720</td>\n",
       "      <td>223</td>\n",
       "      <td>803</td>\n",
       "      <td>575</td>\n",
       "      <td>MS</td>\n",
       "      <td>LASALGAON</td>\n",
       "      <td>December-2011</td>\n",
       "    </tr>\n",
       "    <tr>\n",
       "      <th>5637</th>\n",
       "      <td>LASALGAON(MS)</td>\n",
       "      <td>December</td>\n",
       "      <td>2012</td>\n",
       "      <td>498275</td>\n",
       "      <td>586</td>\n",
       "      <td>1390</td>\n",
       "      <td>1207</td>\n",
       "      <td>MS</td>\n",
       "      <td>LASALGAON</td>\n",
       "      <td>December-2012</td>\n",
       "    </tr>\n",
       "    <tr>\n",
       "      <th>5638</th>\n",
       "      <td>LASALGAON(MS)</td>\n",
       "      <td>December</td>\n",
       "      <td>2013</td>\n",
       "      <td>343533</td>\n",
       "      <td>955</td>\n",
       "      <td>1690</td>\n",
       "      <td>1335</td>\n",
       "      <td>MS</td>\n",
       "      <td>LASALGAON</td>\n",
       "      <td>December-2013</td>\n",
       "    </tr>\n",
       "    <tr>\n",
       "      <th>5639</th>\n",
       "      <td>LASALGAON(MS)</td>\n",
       "      <td>December</td>\n",
       "      <td>2014</td>\n",
       "      <td>246504</td>\n",
       "      <td>884</td>\n",
       "      <td>1705</td>\n",
       "      <td>1514</td>\n",
       "      <td>MS</td>\n",
       "      <td>LASALGAON</td>\n",
       "      <td>December-2014</td>\n",
       "    </tr>\n",
       "    <tr>\n",
       "      <th>5640</th>\n",
       "      <td>LASALGAON(MS)</td>\n",
       "      <td>December</td>\n",
       "      <td>2015</td>\n",
       "      <td>438498</td>\n",
       "      <td>923</td>\n",
       "      <td>1690</td>\n",
       "      <td>1280</td>\n",
       "      <td>MS</td>\n",
       "      <td>LASALGAON</td>\n",
       "      <td>December-2015</td>\n",
       "    </tr>\n",
       "  </tbody>\n",
       "</table>\n",
       "<p>242 rows × 10 columns</p>\n",
       "</div>"
      ],
      "text/plain": [
       "             market     month  year  quantity  priceMin  priceMax  priceMod  \\\n",
       "5399  LASALGAON(MS)   January  1996    225063       160       257       226   \n",
       "5400  LASALGAON(MS)   January  1997    241225       126       323       290   \n",
       "5401  LASALGAON(MS)   January  1998    125731       225      1447      1037   \n",
       "5402  LASALGAON(MS)   January  1999    236001       310       545       498   \n",
       "5403  LASALGAON(MS)   January  2000    390783       145       341       225   \n",
       "...             ...       ...   ...       ...       ...       ...       ...   \n",
       "5636  LASALGAON(MS)  December  2011    213720       223       803       575   \n",
       "5637  LASALGAON(MS)  December  2012    498275       586      1390      1207   \n",
       "5638  LASALGAON(MS)  December  2013    343533       955      1690      1335   \n",
       "5639  LASALGAON(MS)  December  2014    246504       884      1705      1514   \n",
       "5640  LASALGAON(MS)  December  2015    438498       923      1690      1280   \n",
       "\n",
       "     state       city           date  \n",
       "5399    MS  LASALGAON   January-1996  \n",
       "5400    MS  LASALGAON   January-1997  \n",
       "5401    MS  LASALGAON   January-1998  \n",
       "5402    MS  LASALGAON   January-1999  \n",
       "5403    MS  LASALGAON   January-2000  \n",
       "...    ...        ...            ...  \n",
       "5636    MS  LASALGAON  December-2011  \n",
       "5637    MS  LASALGAON  December-2012  \n",
       "5638    MS  LASALGAON  December-2013  \n",
       "5639    MS  LASALGAON  December-2014  \n",
       "5640    MS  LASALGAON  December-2015  \n",
       "\n",
       "[242 rows x 10 columns]"
      ]
     },
     "execution_count": 13,
     "metadata": {},
     "output_type": "execute_result"
    }
   ],
   "source": [
    "df[df[\"city\"]==\"LASALGAON\"]"
   ]
  },
  {
   "cell_type": "code",
   "execution_count": 14,
   "id": "da26e243",
   "metadata": {},
   "outputs": [],
   "source": [
    "df[\"Date\"]=pd.to_datetime(df[\"date\"])"
   ]
  },
  {
   "cell_type": "code",
   "execution_count": 15,
   "id": "30ef4cad",
   "metadata": {},
   "outputs": [],
   "source": [
    "df_new=df.drop(columns=[\"month\",\"year\",\"date\"])"
   ]
  },
  {
   "cell_type": "code",
   "execution_count": 16,
   "id": "684e3c82",
   "metadata": {},
   "outputs": [
    {
     "data": {
      "text/html": [
       "<div>\n",
       "<style scoped>\n",
       "    .dataframe tbody tr th:only-of-type {\n",
       "        vertical-align: middle;\n",
       "    }\n",
       "\n",
       "    .dataframe tbody tr th {\n",
       "        vertical-align: top;\n",
       "    }\n",
       "\n",
       "    .dataframe thead th {\n",
       "        text-align: right;\n",
       "    }\n",
       "</style>\n",
       "<table border=\"1\" class=\"dataframe\">\n",
       "  <thead>\n",
       "    <tr style=\"text-align: right;\">\n",
       "      <th></th>\n",
       "      <th>market</th>\n",
       "      <th>quantity</th>\n",
       "      <th>priceMin</th>\n",
       "      <th>priceMax</th>\n",
       "      <th>priceMod</th>\n",
       "      <th>state</th>\n",
       "      <th>city</th>\n",
       "      <th>Date</th>\n",
       "    </tr>\n",
       "  </thead>\n",
       "  <tbody>\n",
       "    <tr>\n",
       "      <th>0</th>\n",
       "      <td>ABOHAR(PB)</td>\n",
       "      <td>2350</td>\n",
       "      <td>404</td>\n",
       "      <td>493</td>\n",
       "      <td>446</td>\n",
       "      <td>PB</td>\n",
       "      <td>ABOHAR</td>\n",
       "      <td>2005-01-01</td>\n",
       "    </tr>\n",
       "    <tr>\n",
       "      <th>1</th>\n",
       "      <td>ABOHAR(PB)</td>\n",
       "      <td>900</td>\n",
       "      <td>487</td>\n",
       "      <td>638</td>\n",
       "      <td>563</td>\n",
       "      <td>PB</td>\n",
       "      <td>ABOHAR</td>\n",
       "      <td>2006-01-01</td>\n",
       "    </tr>\n",
       "    <tr>\n",
       "      <th>2</th>\n",
       "      <td>ABOHAR(PB)</td>\n",
       "      <td>790</td>\n",
       "      <td>1283</td>\n",
       "      <td>1592</td>\n",
       "      <td>1460</td>\n",
       "      <td>PB</td>\n",
       "      <td>ABOHAR</td>\n",
       "      <td>2010-01-01</td>\n",
       "    </tr>\n",
       "    <tr>\n",
       "      <th>3</th>\n",
       "      <td>ABOHAR(PB)</td>\n",
       "      <td>245</td>\n",
       "      <td>3067</td>\n",
       "      <td>3750</td>\n",
       "      <td>3433</td>\n",
       "      <td>PB</td>\n",
       "      <td>ABOHAR</td>\n",
       "      <td>2011-01-01</td>\n",
       "    </tr>\n",
       "    <tr>\n",
       "      <th>4</th>\n",
       "      <td>ABOHAR(PB)</td>\n",
       "      <td>1035</td>\n",
       "      <td>523</td>\n",
       "      <td>686</td>\n",
       "      <td>605</td>\n",
       "      <td>PB</td>\n",
       "      <td>ABOHAR</td>\n",
       "      <td>2012-01-01</td>\n",
       "    </tr>\n",
       "  </tbody>\n",
       "</table>\n",
       "</div>"
      ],
      "text/plain": [
       "       market  quantity  priceMin  priceMax  priceMod state    city       Date\n",
       "0  ABOHAR(PB)      2350       404       493       446    PB  ABOHAR 2005-01-01\n",
       "1  ABOHAR(PB)       900       487       638       563    PB  ABOHAR 2006-01-01\n",
       "2  ABOHAR(PB)       790      1283      1592      1460    PB  ABOHAR 2010-01-01\n",
       "3  ABOHAR(PB)       245      3067      3750      3433    PB  ABOHAR 2011-01-01\n",
       "4  ABOHAR(PB)      1035       523       686       605    PB  ABOHAR 2012-01-01"
      ]
     },
     "execution_count": 16,
     "metadata": {},
     "output_type": "execute_result"
    }
   ],
   "source": [
    "df_new.head()"
   ]
  },
  {
   "cell_type": "code",
   "execution_count": 17,
   "id": "7c4bc6af",
   "metadata": {},
   "outputs": [],
   "source": [
    "df_new.sort_values(by=\"Date\",inplace=True)"
   ]
  },
  {
   "cell_type": "markdown",
   "id": "bb3d137c",
   "metadata": {},
   "source": [
    "# Onion price in Mumbai"
   ]
  },
  {
   "cell_type": "code",
   "execution_count": 18,
   "id": "d17e7c6f",
   "metadata": {},
   "outputs": [],
   "source": [
    "df_mum=df_new[df_new[\"city\"]==\"LASALGAON\"]"
   ]
  },
  {
   "cell_type": "code",
   "execution_count": 19,
   "id": "67367703",
   "metadata": {},
   "outputs": [
    {
     "data": {
      "text/html": [
       "<div>\n",
       "<style scoped>\n",
       "    .dataframe tbody tr th:only-of-type {\n",
       "        vertical-align: middle;\n",
       "    }\n",
       "\n",
       "    .dataframe tbody tr th {\n",
       "        vertical-align: top;\n",
       "    }\n",
       "\n",
       "    .dataframe thead th {\n",
       "        text-align: right;\n",
       "    }\n",
       "</style>\n",
       "<table border=\"1\" class=\"dataframe\">\n",
       "  <thead>\n",
       "    <tr style=\"text-align: right;\">\n",
       "      <th></th>\n",
       "      <th>market</th>\n",
       "      <th>quantity</th>\n",
       "      <th>priceMin</th>\n",
       "      <th>priceMax</th>\n",
       "      <th>priceMod</th>\n",
       "      <th>state</th>\n",
       "      <th>city</th>\n",
       "      <th>Date</th>\n",
       "    </tr>\n",
       "  </thead>\n",
       "  <tbody>\n",
       "    <tr>\n",
       "      <th>5399</th>\n",
       "      <td>LASALGAON(MS)</td>\n",
       "      <td>225063</td>\n",
       "      <td>160</td>\n",
       "      <td>257</td>\n",
       "      <td>226</td>\n",
       "      <td>MS</td>\n",
       "      <td>LASALGAON</td>\n",
       "      <td>1996-01-01</td>\n",
       "    </tr>\n",
       "    <tr>\n",
       "      <th>5420</th>\n",
       "      <td>LASALGAON(MS)</td>\n",
       "      <td>196164</td>\n",
       "      <td>133</td>\n",
       "      <td>229</td>\n",
       "      <td>186</td>\n",
       "      <td>MS</td>\n",
       "      <td>LASALGAON</td>\n",
       "      <td>1996-02-01</td>\n",
       "    </tr>\n",
       "    <tr>\n",
       "      <th>5441</th>\n",
       "      <td>LASALGAON(MS)</td>\n",
       "      <td>178992</td>\n",
       "      <td>155</td>\n",
       "      <td>274</td>\n",
       "      <td>243</td>\n",
       "      <td>MS</td>\n",
       "      <td>LASALGAON</td>\n",
       "      <td>1996-03-01</td>\n",
       "    </tr>\n",
       "    <tr>\n",
       "      <th>5461</th>\n",
       "      <td>LASALGAON(MS)</td>\n",
       "      <td>192592</td>\n",
       "      <td>136</td>\n",
       "      <td>279</td>\n",
       "      <td>254</td>\n",
       "      <td>MS</td>\n",
       "      <td>LASALGAON</td>\n",
       "      <td>1996-04-01</td>\n",
       "    </tr>\n",
       "    <tr>\n",
       "      <th>5481</th>\n",
       "      <td>LASALGAON(MS)</td>\n",
       "      <td>237574</td>\n",
       "      <td>154</td>\n",
       "      <td>312</td>\n",
       "      <td>269</td>\n",
       "      <td>MS</td>\n",
       "      <td>LASALGAON</td>\n",
       "      <td>1996-05-01</td>\n",
       "    </tr>\n",
       "  </tbody>\n",
       "</table>\n",
       "</div>"
      ],
      "text/plain": [
       "             market  quantity  priceMin  priceMax  priceMod state       city  \\\n",
       "5399  LASALGAON(MS)    225063       160       257       226    MS  LASALGAON   \n",
       "5420  LASALGAON(MS)    196164       133       229       186    MS  LASALGAON   \n",
       "5441  LASALGAON(MS)    178992       155       274       243    MS  LASALGAON   \n",
       "5461  LASALGAON(MS)    192592       136       279       254    MS  LASALGAON   \n",
       "5481  LASALGAON(MS)    237574       154       312       269    MS  LASALGAON   \n",
       "\n",
       "           Date  \n",
       "5399 1996-01-01  \n",
       "5420 1996-02-01  \n",
       "5441 1996-03-01  \n",
       "5461 1996-04-01  \n",
       "5481 1996-05-01  "
      ]
     },
     "execution_count": 19,
     "metadata": {},
     "output_type": "execute_result"
    }
   ],
   "source": [
    "df_mum.head()"
   ]
  },
  {
   "cell_type": "code",
   "execution_count": 20,
   "id": "ff8a5b0e",
   "metadata": {},
   "outputs": [],
   "source": [
    "df_mum_mod=df_mum.drop(columns=[\"market\",\"priceMin\",\"priceMax\",\"state\",\"city\"])"
   ]
  },
  {
   "cell_type": "code",
   "execution_count": 21,
   "id": "d769c281",
   "metadata": {},
   "outputs": [],
   "source": [
    "df_mum_mod.set_index([\"Date\"],inplace=True)"
   ]
  },
  {
   "cell_type": "code",
   "execution_count": 22,
   "id": "e6e5a6e4",
   "metadata": {},
   "outputs": [
    {
     "data": {
      "text/html": [
       "<div>\n",
       "<style scoped>\n",
       "    .dataframe tbody tr th:only-of-type {\n",
       "        vertical-align: middle;\n",
       "    }\n",
       "\n",
       "    .dataframe tbody tr th {\n",
       "        vertical-align: top;\n",
       "    }\n",
       "\n",
       "    .dataframe thead th {\n",
       "        text-align: right;\n",
       "    }\n",
       "</style>\n",
       "<table border=\"1\" class=\"dataframe\">\n",
       "  <thead>\n",
       "    <tr style=\"text-align: right;\">\n",
       "      <th></th>\n",
       "      <th>quantity</th>\n",
       "      <th>priceMod</th>\n",
       "    </tr>\n",
       "    <tr>\n",
       "      <th>Date</th>\n",
       "      <th></th>\n",
       "      <th></th>\n",
       "    </tr>\n",
       "  </thead>\n",
       "  <tbody>\n",
       "    <tr>\n",
       "      <th>1996-01-01</th>\n",
       "      <td>225063</td>\n",
       "      <td>226</td>\n",
       "    </tr>\n",
       "    <tr>\n",
       "      <th>1996-02-01</th>\n",
       "      <td>196164</td>\n",
       "      <td>186</td>\n",
       "    </tr>\n",
       "    <tr>\n",
       "      <th>1996-03-01</th>\n",
       "      <td>178992</td>\n",
       "      <td>243</td>\n",
       "    </tr>\n",
       "    <tr>\n",
       "      <th>1996-04-01</th>\n",
       "      <td>192592</td>\n",
       "      <td>254</td>\n",
       "    </tr>\n",
       "    <tr>\n",
       "      <th>1996-05-01</th>\n",
       "      <td>237574</td>\n",
       "      <td>269</td>\n",
       "    </tr>\n",
       "  </tbody>\n",
       "</table>\n",
       "</div>"
      ],
      "text/plain": [
       "            quantity  priceMod\n",
       "Date                          \n",
       "1996-01-01    225063       226\n",
       "1996-02-01    196164       186\n",
       "1996-03-01    178992       243\n",
       "1996-04-01    192592       254\n",
       "1996-05-01    237574       269"
      ]
     },
     "execution_count": 22,
     "metadata": {},
     "output_type": "execute_result"
    }
   ],
   "source": [
    "df_mum_mod.head()"
   ]
  },
  {
   "cell_type": "code",
   "execution_count": 23,
   "id": "8ee74623",
   "metadata": {},
   "outputs": [
    {
     "data": {
      "text/plain": [
       "<AxesSubplot:xlabel='Date'>"
      ]
     },
     "execution_count": 23,
     "metadata": {},
     "output_type": "execute_result"
    },
    {
     "data": {
      "image/png": "[encoded data removed]",
      "text/plain": [
       "<Figure size 1080x432 with 1 Axes>"
      ]
     },
     "metadata": {
      "needs_background": "light"
     },
     "output_type": "display_data"
    }
   ],
   "source": [
    "df_mum_mod[\"priceMod\"].plot(figsize=(15,6))"
   ]
  },
  {
   "cell_type": "markdown",
   "id": "78f3801a",
   "metadata": {},
   "source": [
    "# Decomposition"
   ]
  },
  {
   "cell_type": "code",
   "execution_count": 24,
   "id": "20c0d9e4",
   "metadata": {},
   "outputs": [
    {
     "data": {
      "image/png": "[encoded data removed]",
      "text/plain": [
       "<Figure size 432x288 with 4 Axes>"
      ]
     },
     "metadata": {
      "needs_background": "light"
     },
     "output_type": "display_data"
    }
   ],
   "source": [
    "from statsmodels.tsa.seasonal import seasonal_decompose\n",
    "decompose=seasonal_decompose(df_mum_mod[\"priceMod\"],model=\"multiplicative\",two_sided=False,extrapolate_trend=4)\n",
    "decompose.plot()\n",
    "plt.show()"
   ]
  },
  {
   "cell_type": "code",
   "execution_count": 25,
   "id": "2dfafe39",
   "metadata": {},
   "outputs": [
    {
     "data": {
      "text/html": [
       "<div>\n",
       "<style scoped>\n",
       "    .dataframe tbody tr th:only-of-type {\n",
       "        vertical-align: middle;\n",
       "    }\n",
       "\n",
       "    .dataframe tbody tr th {\n",
       "        vertical-align: top;\n",
       "    }\n",
       "\n",
       "    .dataframe thead th {\n",
       "        text-align: right;\n",
       "    }\n",
       "</style>\n",
       "<table border=\"1\" class=\"dataframe\">\n",
       "  <thead>\n",
       "    <tr style=\"text-align: right;\">\n",
       "      <th></th>\n",
       "      <th>Actual Value</th>\n",
       "      <th>SI</th>\n",
       "      <th>Trend</th>\n",
       "      <th>IT</th>\n",
       "    </tr>\n",
       "    <tr>\n",
       "      <th>Date</th>\n",
       "      <th></th>\n",
       "      <th></th>\n",
       "      <th></th>\n",
       "      <th></th>\n",
       "    </tr>\n",
       "  </thead>\n",
       "  <tbody>\n",
       "    <tr>\n",
       "      <th>1996-01-01</th>\n",
       "      <td>226.0</td>\n",
       "      <td>1.077431</td>\n",
       "      <td>303.566667</td>\n",
       "      <td>0.690979</td>\n",
       "    </tr>\n",
       "    <tr>\n",
       "      <th>1996-02-01</th>\n",
       "      <td>186.0</td>\n",
       "      <td>0.850965</td>\n",
       "      <td>305.320833</td>\n",
       "      <td>0.715888</td>\n",
       "    </tr>\n",
       "    <tr>\n",
       "      <th>1996-03-01</th>\n",
       "      <td>243.0</td>\n",
       "      <td>0.647092</td>\n",
       "      <td>307.075000</td>\n",
       "      <td>1.222913</td>\n",
       "    </tr>\n",
       "    <tr>\n",
       "      <th>1996-04-01</th>\n",
       "      <td>254.0</td>\n",
       "      <td>0.590844</td>\n",
       "      <td>308.829167</td>\n",
       "      <td>1.392011</td>\n",
       "    </tr>\n",
       "    <tr>\n",
       "      <th>1996-05-01</th>\n",
       "      <td>269.0</td>\n",
       "      <td>0.598310</td>\n",
       "      <td>310.583333</td>\n",
       "      <td>1.447599</td>\n",
       "    </tr>\n",
       "    <tr>\n",
       "      <th>...</th>\n",
       "      <td>...</td>\n",
       "      <td>...</td>\n",
       "      <td>...</td>\n",
       "      <td>...</td>\n",
       "    </tr>\n",
       "    <tr>\n",
       "      <th>2015-10-01</th>\n",
       "      <td>3248.0</td>\n",
       "      <td>1.447253</td>\n",
       "      <td>1950.750000</td>\n",
       "      <td>1.150456</td>\n",
       "    </tr>\n",
       "    <tr>\n",
       "      <th>2015-11-01</th>\n",
       "      <td>2134.0</td>\n",
       "      <td>1.383567</td>\n",
       "      <td>2056.083333</td>\n",
       "      <td>0.750159</td>\n",
       "    </tr>\n",
       "    <tr>\n",
       "      <th>2015-12-01</th>\n",
       "      <td>1280.0</td>\n",
       "      <td>1.191827</td>\n",
       "      <td>2075.583333</td>\n",
       "      <td>0.517436</td>\n",
       "    </tr>\n",
       "    <tr>\n",
       "      <th>2016-01-01</th>\n",
       "      <td>1108.0</td>\n",
       "      <td>1.077431</td>\n",
       "      <td>2057.791667</td>\n",
       "      <td>0.499746</td>\n",
       "    </tr>\n",
       "    <tr>\n",
       "      <th>2016-02-01</th>\n",
       "      <td>802.0</td>\n",
       "      <td>0.850965</td>\n",
       "      <td>2024.666667</td>\n",
       "      <td>0.465489</td>\n",
       "    </tr>\n",
       "  </tbody>\n",
       "</table>\n",
       "<p>242 rows × 4 columns</p>\n",
       "</div>"
      ],
      "text/plain": [
       "            Actual Value        SI        Trend        IT\n",
       "Date                                                     \n",
       "1996-01-01         226.0  1.077431   303.566667  0.690979\n",
       "1996-02-01         186.0  0.850965   305.320833  0.715888\n",
       "1996-03-01         243.0  0.647092   307.075000  1.222913\n",
       "1996-04-01         254.0  0.590844   308.829167  1.392011\n",
       "1996-05-01         269.0  0.598310   310.583333  1.447599\n",
       "...                  ...       ...          ...       ...\n",
       "2015-10-01        3248.0  1.447253  1950.750000  1.150456\n",
       "2015-11-01        2134.0  1.383567  2056.083333  0.750159\n",
       "2015-12-01        1280.0  1.191827  2075.583333  0.517436\n",
       "2016-01-01        1108.0  1.077431  2057.791667  0.499746\n",
       "2016-02-01         802.0  0.850965  2024.666667  0.465489\n",
       "\n",
       "[242 rows x 4 columns]"
      ]
     },
     "execution_count": 25,
     "metadata": {},
     "output_type": "execute_result"
    }
   ],
   "source": [
    "pd.DataFrame({\"Actual Value\":decompose.observed,\"SI\":decompose.seasonal,\n",
    "             \"Trend\":decompose.trend,\"IT\":decompose.resid})"
   ]
  },
  {
   "cell_type": "code",
   "execution_count": 26,
   "id": "34515f8a",
   "metadata": {},
   "outputs": [
    {
     "data": {
      "image/png": "[encoded data removed]",
      "text/plain": [
       "<Figure size 432x288 with 4 Axes>"
      ]
     },
     "metadata": {
      "needs_background": "light"
     },
     "output_type": "display_data"
    }
   ],
   "source": [
    "from statsmodels.tsa.seasonal import seasonal_decompose\n",
    "decompose1=seasonal_decompose(df_mum_mod[\"priceMod\"],model=\"additive\",two_sided=False,extrapolate_trend=4)\n",
    "decompose1.plot()\n",
    "plt.show()"
   ]
  },
  {
   "cell_type": "code",
   "execution_count": 27,
   "id": "74850a17",
   "metadata": {},
   "outputs": [
    {
     "data": {
      "text/html": [
       "<div>\n",
       "<style scoped>\n",
       "    .dataframe tbody tr th:only-of-type {\n",
       "        vertical-align: middle;\n",
       "    }\n",
       "\n",
       "    .dataframe tbody tr th {\n",
       "        vertical-align: top;\n",
       "    }\n",
       "\n",
       "    .dataframe thead th {\n",
       "        text-align: right;\n",
       "    }\n",
       "</style>\n",
       "<table border=\"1\" class=\"dataframe\">\n",
       "  <thead>\n",
       "    <tr style=\"text-align: right;\">\n",
       "      <th></th>\n",
       "      <th>Actual Value</th>\n",
       "      <th>SI</th>\n",
       "      <th>Trend</th>\n",
       "      <th>IT</th>\n",
       "    </tr>\n",
       "    <tr>\n",
       "      <th>Date</th>\n",
       "      <th></th>\n",
       "      <th></th>\n",
       "      <th></th>\n",
       "      <th></th>\n",
       "    </tr>\n",
       "  </thead>\n",
       "  <tbody>\n",
       "    <tr>\n",
       "      <th>1996-01-01</th>\n",
       "      <td>226.0</td>\n",
       "      <td>-27.305915</td>\n",
       "      <td>303.566667</td>\n",
       "      <td>-50.260751</td>\n",
       "    </tr>\n",
       "    <tr>\n",
       "      <th>1996-02-01</th>\n",
       "      <td>186.0</td>\n",
       "      <td>-183.933098</td>\n",
       "      <td>305.320833</td>\n",
       "      <td>64.612264</td>\n",
       "    </tr>\n",
       "    <tr>\n",
       "      <th>1996-03-01</th>\n",
       "      <td>243.0</td>\n",
       "      <td>-276.964328</td>\n",
       "      <td>307.075000</td>\n",
       "      <td>212.889328</td>\n",
       "    </tr>\n",
       "    <tr>\n",
       "      <th>1996-04-01</th>\n",
       "      <td>254.0</td>\n",
       "      <td>-312.006203</td>\n",
       "      <td>308.829167</td>\n",
       "      <td>257.177036</td>\n",
       "    </tr>\n",
       "    <tr>\n",
       "      <th>1996-05-01</th>\n",
       "      <td>269.0</td>\n",
       "      <td>-294.277245</td>\n",
       "      <td>310.583333</td>\n",
       "      <td>252.693911</td>\n",
       "    </tr>\n",
       "    <tr>\n",
       "      <th>...</th>\n",
       "      <td>...</td>\n",
       "      <td>...</td>\n",
       "      <td>...</td>\n",
       "      <td>...</td>\n",
       "    </tr>\n",
       "    <tr>\n",
       "      <th>2015-10-01</th>\n",
       "      <td>3248.0</td>\n",
       "      <td>401.915464</td>\n",
       "      <td>1950.750000</td>\n",
       "      <td>895.334536</td>\n",
       "    </tr>\n",
       "    <tr>\n",
       "      <th>2015-11-01</th>\n",
       "      <td>2134.0</td>\n",
       "      <td>233.423589</td>\n",
       "      <td>2056.083333</td>\n",
       "      <td>-155.506922</td>\n",
       "    </tr>\n",
       "    <tr>\n",
       "      <th>2015-12-01</th>\n",
       "      <td>1280.0</td>\n",
       "      <td>37.608797</td>\n",
       "      <td>2075.583333</td>\n",
       "      <td>-833.192130</td>\n",
       "    </tr>\n",
       "    <tr>\n",
       "      <th>2016-01-01</th>\n",
       "      <td>1108.0</td>\n",
       "      <td>-27.305915</td>\n",
       "      <td>2057.791667</td>\n",
       "      <td>-922.485751</td>\n",
       "    </tr>\n",
       "    <tr>\n",
       "      <th>2016-02-01</th>\n",
       "      <td>802.0</td>\n",
       "      <td>-183.933098</td>\n",
       "      <td>2024.666667</td>\n",
       "      <td>-1038.733569</td>\n",
       "    </tr>\n",
       "  </tbody>\n",
       "</table>\n",
       "<p>242 rows × 4 columns</p>\n",
       "</div>"
      ],
      "text/plain": [
       "            Actual Value          SI        Trend           IT\n",
       "Date                                                          \n",
       "1996-01-01         226.0  -27.305915   303.566667   -50.260751\n",
       "1996-02-01         186.0 -183.933098   305.320833    64.612264\n",
       "1996-03-01         243.0 -276.964328   307.075000   212.889328\n",
       "1996-04-01         254.0 -312.006203   308.829167   257.177036\n",
       "1996-05-01         269.0 -294.277245   310.583333   252.693911\n",
       "...                  ...         ...          ...          ...\n",
       "2015-10-01        3248.0  401.915464  1950.750000   895.334536\n",
       "2015-11-01        2134.0  233.423589  2056.083333  -155.506922\n",
       "2015-12-01        1280.0   37.608797  2075.583333  -833.192130\n",
       "2016-01-01        1108.0  -27.305915  2057.791667  -922.485751\n",
       "2016-02-01         802.0 -183.933098  2024.666667 -1038.733569\n",
       "\n",
       "[242 rows x 4 columns]"
      ]
     },
     "execution_count": 27,
     "metadata": {},
     "output_type": "execute_result"
    }
   ],
   "source": [
    "pd.DataFrame({\"Actual Value\":decompose1.observed,\"SI\":decompose1.seasonal,\n",
    "             \"Trend\":decompose1.trend,\"IT\":decompose1.resid})"
   ]
  },
  {
   "cell_type": "markdown",
   "id": "8ee696e2",
   "metadata": {},
   "source": [
    "# Log Transformation"
   ]
  },
  {
   "cell_type": "code",
   "execution_count": 28,
   "id": "fd5286cf",
   "metadata": {},
   "outputs": [
    {
     "data": {
      "text/plain": [
       "<AxesSubplot:xlabel='Date'>"
      ]
     },
     "execution_count": 28,
     "metadata": {},
     "output_type": "execute_result"
    },
    {
     "data": {
      "image/png": "[encoded data removed]",
      "text/plain": [
       "<Figure size 432x288 with 1 Axes>"
      ]
     },
     "metadata": {
      "needs_background": "light"
     },
     "output_type": "display_data"
    }
   ],
   "source": [
    "df_mum_mod[\"priceMod\"].plot()"
   ]
  },
  {
   "cell_type": "code",
   "execution_count": 29,
   "id": "3ff01d3a",
   "metadata": {},
   "outputs": [
    {
     "data": {
      "text/plain": [
       "<AxesSubplot:xlabel='Date'>"
      ]
     },
     "execution_count": 29,
     "metadata": {},
     "output_type": "execute_result"
    },
    {
     "data": {
      "image/png": "[encoded data removed]",
      "text/plain": [
       "<Figure size 432x288 with 1 Axes>"
      ]
     },
     "metadata": {
      "needs_background": "light"
     },
     "output_type": "display_data"
    }
   ],
   "source": [
    "np.log(df_mum_mod[\"priceMod\"]).plot()"
   ]
  },
  {
   "cell_type": "code",
   "execution_count": 30,
   "id": "ccefcc49",
   "metadata": {},
   "outputs": [
    {
     "data": {
      "text/html": [
       "<div>\n",
       "<style scoped>\n",
       "    .dataframe tbody tr th:only-of-type {\n",
       "        vertical-align: middle;\n",
       "    }\n",
       "\n",
       "    .dataframe tbody tr th {\n",
       "        vertical-align: top;\n",
       "    }\n",
       "\n",
       "    .dataframe thead th {\n",
       "        text-align: right;\n",
       "    }\n",
       "</style>\n",
       "<table border=\"1\" class=\"dataframe\">\n",
       "  <thead>\n",
       "    <tr style=\"text-align: right;\">\n",
       "      <th></th>\n",
       "      <th>quantity</th>\n",
       "      <th>priceMod</th>\n",
       "      <th>log_priceMod</th>\n",
       "      <th>Mean_price</th>\n",
       "    </tr>\n",
       "    <tr>\n",
       "      <th>Date</th>\n",
       "      <th></th>\n",
       "      <th></th>\n",
       "      <th></th>\n",
       "      <th></th>\n",
       "    </tr>\n",
       "  </thead>\n",
       "  <tbody>\n",
       "    <tr>\n",
       "      <th>1996-01-01</th>\n",
       "      <td>225063</td>\n",
       "      <td>226</td>\n",
       "      <td>5.420535</td>\n",
       "      <td>564.668286</td>\n",
       "    </tr>\n",
       "    <tr>\n",
       "      <th>1996-02-01</th>\n",
       "      <td>196164</td>\n",
       "      <td>186</td>\n",
       "      <td>5.225747</td>\n",
       "      <td>564.668286</td>\n",
       "    </tr>\n",
       "    <tr>\n",
       "      <th>1996-03-01</th>\n",
       "      <td>178992</td>\n",
       "      <td>243</td>\n",
       "      <td>5.493061</td>\n",
       "      <td>564.668286</td>\n",
       "    </tr>\n",
       "    <tr>\n",
       "      <th>1996-04-01</th>\n",
       "      <td>192592</td>\n",
       "      <td>254</td>\n",
       "      <td>5.537334</td>\n",
       "      <td>564.668286</td>\n",
       "    </tr>\n",
       "    <tr>\n",
       "      <th>1996-05-01</th>\n",
       "      <td>237574</td>\n",
       "      <td>269</td>\n",
       "      <td>5.594711</td>\n",
       "      <td>564.668286</td>\n",
       "    </tr>\n",
       "  </tbody>\n",
       "</table>\n",
       "</div>"
      ],
      "text/plain": [
       "            quantity  priceMod  log_priceMod  Mean_price\n",
       "Date                                                    \n",
       "1996-01-01    225063       226      5.420535  564.668286\n",
       "1996-02-01    196164       186      5.225747  564.668286\n",
       "1996-03-01    178992       243      5.493061  564.668286\n",
       "1996-04-01    192592       254      5.537334  564.668286\n",
       "1996-05-01    237574       269      5.594711  564.668286"
      ]
     },
     "execution_count": 30,
     "metadata": {},
     "output_type": "execute_result"
    }
   ],
   "source": [
    "df_mum_mod[\"log_priceMod\"] = np.log(df_mum_mod[\"priceMod\"])\n",
    "df_Mumbai_mean = df_mum_mod[\"log_priceMod\"].mean()\n",
    "df_mum_mod[\"Mean_price\"] = np.exp(df_Mumbai_mean)\n",
    "df_mum_mod.head()"
   ]
  },
  {
   "cell_type": "code",
   "execution_count": 31,
   "id": "42100a1d",
   "metadata": {},
   "outputs": [],
   "source": [
    "def RMSE(actual, predict):\n",
    "    mse = (actual - predict)**2\n",
    "    rmse = np.sqrt(mse.sum()/mse.count())\n",
    "    return rmse"
   ]
  },
  {
   "cell_type": "code",
   "execution_count": 32,
   "id": "fe9d0769",
   "metadata": {},
   "outputs": [
    {
     "data": {
      "text/plain": [
       "739.7611298704511"
      ]
     },
     "execution_count": 32,
     "metadata": {},
     "output_type": "execute_result"
    }
   ],
   "source": [
    "mean_modelRMSE = RMSE(df_mum_mod[\"priceMod\"], df_mum_mod[\"Mean_price\"])\n",
    "mean_modelRMSE"
   ]
  },
  {
   "cell_type": "code",
   "execution_count": 33,
   "id": "5f11a663",
   "metadata": {},
   "outputs": [
    {
     "data": {
      "text/plain": [
       "558.3325331516728"
      ]
     },
     "execution_count": 33,
     "metadata": {},
     "output_type": "execute_result"
    }
   ],
   "source": [
    "mean_modelRMSE = RMSE(df_mum_mod[\"log_priceMod\"], df_mum_mod[\"Mean_price\"])\n",
    "mean_modelRMSE"
   ]
  },
  {
   "cell_type": "code",
   "execution_count": 34,
   "id": "f70b7386",
   "metadata": {},
   "outputs": [
    {
     "data": {
      "text/html": [
       "<div>\n",
       "<style scoped>\n",
       "    .dataframe tbody tr th:only-of-type {\n",
       "        vertical-align: middle;\n",
       "    }\n",
       "\n",
       "    .dataframe tbody tr th {\n",
       "        vertical-align: top;\n",
       "    }\n",
       "\n",
       "    .dataframe thead th {\n",
       "        text-align: right;\n",
       "    }\n",
       "</style>\n",
       "<table border=\"1\" class=\"dataframe\">\n",
       "  <thead>\n",
       "    <tr style=\"text-align: right;\">\n",
       "      <th></th>\n",
       "      <th>Model</th>\n",
       "      <th>Forcast</th>\n",
       "      <th>RMSE</th>\n",
       "    </tr>\n",
       "  </thead>\n",
       "  <tbody>\n",
       "    <tr>\n",
       "      <th>0</th>\n",
       "      <td>Mean Model</td>\n",
       "      <td>564.668286</td>\n",
       "      <td>558.332533</td>\n",
       "    </tr>\n",
       "  </tbody>\n",
       "</table>\n",
       "</div>"
      ],
      "text/plain": [
       "        Model     Forcast        RMSE\n",
       "0  Mean Model  564.668286  558.332533"
      ]
     },
     "execution_count": 34,
     "metadata": {},
     "output_type": "execute_result"
    }
   ],
   "source": [
    "Result_df = pd.DataFrame(columns =[\"Model\",\"Forcast\",\"RMSE\"])\n",
    "Result_df.loc[0,\"Model\"] = \"Mean Model\"\n",
    "Result_df.loc[0,\"Forcast\"] = np.exp(df_Mumbai_mean)\n",
    "Result_df.loc[0,\"RMSE\"] = mean_modelRMSE\n",
    "Result_df"
   ]
  },
  {
   "cell_type": "code",
   "execution_count": 35,
   "id": "417044b3",
   "metadata": {},
   "outputs": [],
   "source": [
    "ts = df_mum_mod[\"log_priceMod\"]"
   ]
  },
  {
   "cell_type": "code",
   "execution_count": 36,
   "id": "c1fde865",
   "metadata": {},
   "outputs": [
    {
     "data": {
      "text/plain": [
       "array([1.        , 0.90931823, 0.74423705, 0.56526742, 0.41640806,\n",
       "       0.31563975, 0.2822883 , 0.30969338, 0.36047341, 0.408564  ,\n",
       "       0.44623515, 0.44575338, 0.41038303, 0.35458443, 0.30474411,\n",
       "       0.24959298, 0.19183027, 0.14785997, 0.13757986, 0.15322057,\n",
       "       0.195587  ])"
      ]
     },
     "execution_count": 36,
     "metadata": {},
     "output_type": "execute_result"
    }
   ],
   "source": [
    "from statsmodels.tsa.stattools import acf, pacf\n",
    "lag_acf = acf(ts, nlags=20)\n",
    "lag_acf"
   ]
  },
  {
   "cell_type": "markdown",
   "id": "d19f201c",
   "metadata": {},
   "source": [
    "# ACF Plot:"
   ]
  },
  {
   "cell_type": "code",
   "execution_count": 37,
   "id": "f8ac0dd2",
   "metadata": {},
   "outputs": [
    {
     "data": {
      "text/plain": [
       "<AxesSubplot:>"
      ]
     },
     "execution_count": 37,
     "metadata": {},
     "output_type": "execute_result"
    },
    {
     "data": {
      "image/png": "[encoded data removed]",
      "text/plain": [
       "<Figure size 432x288 with 1 Axes>"
      ]
     },
     "metadata": {
      "needs_background": "light"
     },
     "output_type": "display_data"
    }
   ],
   "source": [
    "ACF = pd.Series(lag_acf)\n",
    "ACF.plot(kind=\"bar\", color=\"blue\")"
   ]
  },
  {
   "cell_type": "markdown",
   "id": "c2889205",
   "metadata": {},
   "source": [
    "# PACF Plot:"
   ]
  },
  {
   "cell_type": "code",
   "execution_count": 36,
   "id": "a8e30427",
   "metadata": {},
   "outputs": [
    {
     "data": {
      "text/plain": [
       "<AxesSubplot:>"
      ]
     },
     "execution_count": 36,
     "metadata": {},
     "output_type": "execute_result"
    },
    {
     "data": {
      "image/png": "[encoded data removed]",
      "text/plain": [
       "<Figure size 432x288 with 1 Axes>"
      ]
     },
     "metadata": {
      "needs_background": "light"
     },
     "output_type": "display_data"
    }
   ],
   "source": [
    "lag_pacf = pacf(ts, nlags=20, method='ols')\n",
    "PACF = pd.Series(lag_pacf)\n",
    "PACF.plot(kind=\"bar\", color=\"green\")"
   ]
  },
  {
   "cell_type": "markdown",
   "id": "5a1f480f",
   "metadata": {},
   "source": [
    "#  Exponential smoothing using Holt-Winter’s technique "
   ]
  },
  {
   "cell_type": "code",
   "execution_count": 37,
   "id": "187fa670",
   "metadata": {},
   "outputs": [],
   "source": [
    "from statsmodels.tsa.holtwinters import SimpleExpSmoothing  "
   ]
  },
  {
   "cell_type": "code",
   "execution_count": 38,
   "id": "526649d7",
   "metadata": {},
   "outputs": [],
   "source": [
    "m = 12\n",
    "alpha = 1/(2*m)"
   ]
  },
  {
   "cell_type": "code",
   "execution_count": 39,
   "id": "b77c4f4d",
   "metadata": {},
   "outputs": [
    {
     "name": "stderr",
     "output_type": "stream",
     "text": [
      "C:\\Users\\Sarkar\\anaconda3\\lib\\site-packages\\statsmodels\\tsa\\base\\tsa_model.py:471: ValueWarning: No frequency information was provided, so inferred frequency MS will be used.\n",
      "  self._init_dates(dates, freq)\n"
     ]
    }
   ],
   "source": [
    "df_mum_mod['HWES1'] = SimpleExpSmoothing(df_mum_mod[\"priceMod\"]).fit(smoothing_level=alpha,optimized=False,use_brute=True).fittedvalues"
   ]
  },
  {
   "cell_type": "code",
   "execution_count": 40,
   "id": "8b6a8ac7",
   "metadata": {},
   "outputs": [
    {
     "data": {
      "image/png": "[encoded data removed]",
      "text/plain": [
       "<Figure size 432x288 with 1 Axes>"
      ]
     },
     "metadata": {
      "needs_background": "light"
     },
     "output_type": "display_data"
    }
   ],
   "source": [
    "df_mum_mod[[\"priceMod\",'HWES1']].plot(title=\"Holt Winters Single Exponential Smoothing\");"
   ]
  },
  {
   "cell_type": "code",
   "execution_count": 41,
   "id": "9b7dc552",
   "metadata": {},
   "outputs": [
    {
     "data": {
      "text/plain": [
       "345.01556026818616"
      ]
     },
     "execution_count": 41,
     "metadata": {},
     "output_type": "execute_result"
    }
   ],
   "source": [
    "mean_modelRMSE = RMSE(df_mum_mod[\"HWES1\"], df_mum_mod[\"Mean_price\"])\n",
    "mean_modelRMSE"
   ]
  },
  {
   "cell_type": "code",
   "execution_count": 42,
   "id": "8c6a7892",
   "metadata": {},
   "outputs": [],
   "source": [
    "hw = df_mum_mod[\"HWES1\"]"
   ]
  },
  {
   "cell_type": "code",
   "execution_count": 43,
   "id": "668b6c83",
   "metadata": {},
   "outputs": [
    {
     "data": {
      "text/plain": [
       "array([1.        , 0.97036444, 0.93191443, 0.88824471, 0.84467694,\n",
       "       0.80589765, 0.77518109, 0.75190821, 0.73080058, 0.71051471,\n",
       "       0.68929314, 0.66628418, 0.64180408, 0.61628818, 0.58980406,\n",
       "       0.56359001, 0.53837948, 0.51430191, 0.4919145 , 0.4722238 ,\n",
       "       0.45563124])"
      ]
     },
     "execution_count": 43,
     "metadata": {},
     "output_type": "execute_result"
    }
   ],
   "source": [
    "lag_acf = acf(hw, nlags=20)\n",
    "lag_acf"
   ]
  },
  {
   "cell_type": "markdown",
   "id": "0b814d94",
   "metadata": {},
   "source": [
    "# ACF plot:"
   ]
  },
  {
   "cell_type": "code",
   "execution_count": 44,
   "id": "3d77b9f9",
   "metadata": {},
   "outputs": [
    {
     "data": {
      "text/plain": [
       "<AxesSubplot:>"
      ]
     },
     "execution_count": 44,
     "metadata": {},
     "output_type": "execute_result"
    },
    {
     "data": {
      "image/png": "[encoded data removed]",
      "text/plain": [
       "<Figure size 432x288 with 1 Axes>"
      ]
     },
     "metadata": {
      "needs_background": "light"
     },
     "output_type": "display_data"
    }
   ],
   "source": [
    "ACF = pd.Series(lag_acf)\n",
    "ACF.plot(kind=\"bar\", color=\"blue\")"
   ]
  },
  {
   "cell_type": "markdown",
   "id": "24f4b6d5",
   "metadata": {},
   "source": [
    "# PACF Plot:"
   ]
  },
  {
   "cell_type": "code",
   "execution_count": 45,
   "id": "0a9024f4",
   "metadata": {},
   "outputs": [
    {
     "data": {
      "text/plain": [
       "<AxesSubplot:>"
      ]
     },
     "execution_count": 45,
     "metadata": {},
     "output_type": "execute_result"
    },
    {
     "data": {
      "image/png": "[encoded data removed]",
      "text/plain": [
       "<Figure size 432x288 with 1 Axes>"
      ]
     },
     "metadata": {
      "needs_background": "light"
     },
     "output_type": "display_data"
    }
   ],
   "source": [
    "lag_pacf = pacf(ts, nlags=20, method='ols')\n",
    "PACF = pd.Series(lag_pacf)\n",
    "PACF.plot(kind=\"bar\", color=\"green\")"
   ]
  },
  {
   "cell_type": "code",
   "execution_count": null,
   "id": "a3a4ff53",
   "metadata": {},
   "outputs": [],
   "source": []
  }
 ],
 "metadata": {
  "kernelspec": {
   "display_name": "Python 3 (ipykernel)",
   "language": "python",
   "name": "python3"
  },
  "language_info": {
   "codemirror_mode": {
    "name": "ipython",
    "version": 3
   },
   "file_extension": ".py",
   "mimetype": "text/x-python",
   "name": "python",
   "nbconvert_exporter": "python",
   "pygments_lexer": "ipython3",
   "version": "3.9.7"
  }
 },
 "nbformat": 4,
 "nbformat_minor": 5
}
